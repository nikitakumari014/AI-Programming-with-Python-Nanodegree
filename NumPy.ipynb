{
 "cells": [
  {
   "cell_type": "code",
   "execution_count": 3,
   "id": "804379af",
   "metadata": {},
   "outputs": [],
   "source": [
    "import numpy as np"
   ]
  },
  {
   "cell_type": "code",
   "execution_count": 4,
   "id": "7ed28ff0",
   "metadata": {},
   "outputs": [],
   "source": [
    "x = np.array([1,2,3,4,5])"
   ]
  },
  {
   "cell_type": "code",
   "execution_count": 5,
   "id": "7884bce0",
   "metadata": {},
   "outputs": [
    {
     "name": "stdout",
     "output_type": "stream",
     "text": [
      "[1 2 3 4 5]\n",
      "<class 'numpy.ndarray'>\n"
     ]
    }
   ],
   "source": [
    "print(x)\n",
    "print(type(x))"
   ]
  },
  {
   "cell_type": "code",
   "execution_count": 6,
   "id": "743917a1",
   "metadata": {},
   "outputs": [
    {
     "data": {
      "text/plain": [
       "dtype('int32')"
      ]
     },
     "execution_count": 6,
     "metadata": {},
     "output_type": "execute_result"
    }
   ],
   "source": [
    "x.dtype"
   ]
  },
  {
   "cell_type": "code",
   "execution_count": 7,
   "id": "ef77947a",
   "metadata": {},
   "outputs": [
    {
     "data": {
      "text/plain": [
       "(5,)"
      ]
     },
     "execution_count": 7,
     "metadata": {},
     "output_type": "execute_result"
    }
   ],
   "source": [
    "x.shape #this returns the tuple of n-positive integers that specifies the sizes of each dimension\n",
    "#if it'd be 2-d array, this will return 2 numbers, one is the no of rows and other is column.bb"
   ]
  },
  {
   "cell_type": "code",
   "execution_count": 8,
   "id": "8d05954e",
   "metadata": {},
   "outputs": [],
   "source": [
    "y = np.array([[1,2,3],[4,5,6],[7,8,9],[10,11,12]])"
   ]
  },
  {
   "cell_type": "code",
   "execution_count": 9,
   "id": "674fcd78",
   "metadata": {},
   "outputs": [
    {
     "data": {
      "text/plain": [
       "(4, 3)"
      ]
     },
     "execution_count": 9,
     "metadata": {},
     "output_type": "execute_result"
    }
   ],
   "source": [
    "y.shape"
   ]
  },
  {
   "cell_type": "code",
   "execution_count": 10,
   "id": "0700aa98",
   "metadata": {},
   "outputs": [
    {
     "data": {
      "text/plain": [
       "12"
      ]
     },
     "execution_count": 10,
     "metadata": {},
     "output_type": "execute_result"
    }
   ],
   "source": [
    "y.size #we refer 1-D array as rank1 array and 2-D array as rank 2 array.b"
   ]
  },
  {
   "cell_type": "code",
   "execution_count": 11,
   "id": "48bc9e57",
   "metadata": {},
   "outputs": [],
   "source": [
    "x = np.array(['Helloo','Niki'])"
   ]
  },
  {
   "cell_type": "code",
   "execution_count": 12,
   "id": "2913a6ab",
   "metadata": {},
   "outputs": [
    {
     "data": {
      "text/plain": [
       "dtype('<U6')"
      ]
     },
     "execution_count": 12,
     "metadata": {},
     "output_type": "execute_result"
    }
   ],
   "source": [
    "x.dtype #datatype is unicode strings of 5 characters(it stores the maximum one)\n",
    "#numpy array must contains elements of the same type."
   ]
  },
  {
   "cell_type": "code",
   "execution_count": 13,
   "id": "1d2ee937",
   "metadata": {},
   "outputs": [],
   "source": [
    "#numpy provides a way to save this array into a file and use later\n",
    "np.save('my_array',x) #this saves array into a file myarray.npy"
   ]
  },
  {
   "cell_type": "code",
   "execution_count": 14,
   "id": "d6e66577",
   "metadata": {},
   "outputs": [
    {
     "name": "stdout",
     "output_type": "stream",
     "text": [
      "['Helloo' 'Niki']\n"
     ]
    }
   ],
   "source": [
    "y = np.load('my_array.npy')\n",
    "print(y)"
   ]
  },
  {
   "cell_type": "code",
   "execution_count": 15,
   "id": "e4443390",
   "metadata": {},
   "outputs": [
    {
     "name": "stdout",
     "output_type": "stream",
     "text": [
      "[[0. 0. 0. 0.]\n",
      " [0. 0. 0. 0.]\n",
      " [0. 0. 0. 0.]]\n"
     ]
    }
   ],
   "source": [
    "X = np.zeros((3,4))\n",
    "print(X)"
   ]
  },
  {
   "cell_type": "code",
   "execution_count": 16,
   "id": "127718e3",
   "metadata": {},
   "outputs": [
    {
     "name": "stdout",
     "output_type": "stream",
     "text": [
      "[[0 0 0 0]\n",
      " [0 0 0 0]\n",
      " [0 0 0 0]]\n"
     ]
    }
   ],
   "source": [
    "X = np.zeros((3,4), dtype = int)\n",
    "print(X)"
   ]
  },
  {
   "cell_type": "code",
   "execution_count": 17,
   "id": "45a7c3e8",
   "metadata": {},
   "outputs": [
    {
     "name": "stdout",
     "output_type": "stream",
     "text": [
      "[[1. 1. 1. 1.]\n",
      " [1. 1. 1. 1.]\n",
      " [1. 1. 1. 1.]]\n"
     ]
    }
   ],
   "source": [
    "X = np.ones((3,4))\n",
    "print(X)"
   ]
  },
  {
   "cell_type": "code",
   "execution_count": 18,
   "id": "9c2896ef",
   "metadata": {},
   "outputs": [
    {
     "name": "stdout",
     "output_type": "stream",
     "text": [
      "[[5 5 5 5]\n",
      " [5 5 5 5]\n",
      " [5 5 5 5]]\n"
     ]
    }
   ],
   "source": [
    "X = np.full((3,4),5)\n",
    "print(X)"
   ]
  },
  {
   "cell_type": "code",
   "execution_count": 19,
   "id": "29d5ab49",
   "metadata": {},
   "outputs": [
    {
     "name": "stdout",
     "output_type": "stream",
     "text": [
      "[[1. 0. 0. 0. 0.]\n",
      " [0. 1. 0. 0. 0.]\n",
      " [0. 0. 1. 0. 0.]\n",
      " [0. 0. 0. 1. 0.]\n",
      " [0. 0. 0. 0. 1.]]\n"
     ]
    }
   ],
   "source": [
    "X = np.eye(5)\n",
    "print(X)"
   ]
  },
  {
   "cell_type": "code",
   "execution_count": 20,
   "id": "41d371dd",
   "metadata": {},
   "outputs": [
    {
     "name": "stdout",
     "output_type": "stream",
     "text": [
      "[[10  0  0  0]\n",
      " [ 0 20  0  0]\n",
      " [ 0  0 30  0]\n",
      " [ 0  0  0 40]]\n"
     ]
    }
   ],
   "source": [
    "X = np.diag([10,20,30,40])\n",
    "print(X)"
   ]
  },
  {
   "cell_type": "code",
   "execution_count": 21,
   "id": "744454ed",
   "metadata": {},
   "outputs": [
    {
     "name": "stdout",
     "output_type": "stream",
     "text": [
      "[0 1 2 3 4 5 6 7 8 9]\n"
     ]
    }
   ],
   "source": [
    "X = np.arange(10) #takes three arguments start, stop, step\n",
    "print(X)"
   ]
  },
  {
   "cell_type": "code",
   "execution_count": 22,
   "id": "4688dec6",
   "metadata": {},
   "outputs": [
    {
     "name": "stdout",
     "output_type": "stream",
     "text": [
      "[ 0.          2.77777778  5.55555556  8.33333333 11.11111111 13.88888889\n",
      " 16.66666667 19.44444444 22.22222222 25.        ]\n"
     ]
    }
   ],
   "source": [
    "X = np.linspace(0,25,10)\n",
    "print(X) #here all the start and end will be inclusive. to not include it, put endpoint = falseb"
   ]
  },
  {
   "cell_type": "code",
   "execution_count": 23,
   "id": "11ff3c4f",
   "metadata": {},
   "outputs": [
    {
     "name": "stdout",
     "output_type": "stream",
     "text": [
      "[[ 0.          2.77777778  5.55555556  8.33333333 11.11111111]\n",
      " [13.88888889 16.66666667 19.44444444 22.22222222 25.        ]]\n"
     ]
    }
   ],
   "source": [
    "X = np.reshape(X,(2,5))\n",
    "print(X) #the value in which you want to reshape must be compatible with the array."
   ]
  },
  {
   "cell_type": "code",
   "execution_count": 24,
   "id": "fc6400c9",
   "metadata": {},
   "outputs": [
    {
     "name": "stdout",
     "output_type": "stream",
     "text": [
      "[[10  9]\n",
      " [13 10]\n",
      " [13  8]]\n"
     ]
    }
   ],
   "source": [
    "X = np.random.randint(4,15,(3,2))\n",
    "print(X)"
   ]
  },
  {
   "cell_type": "code",
   "execution_count": 25,
   "id": "70a46efb",
   "metadata": {},
   "outputs": [
    {
     "name": "stdout",
     "output_type": "stream",
     "text": [
      "[[-1.46385932e-01 -4.40684407e-02 -2.39267832e-02 ... -1.76472156e-02\n",
      "   1.43371295e-01 -3.88633648e-02]\n",
      " [-6.07095244e-03 -4.29000487e-05 -3.28676652e-02 ...  1.58064602e-01\n",
      "   1.39854552e-01  1.34387463e-01]\n",
      " [-1.03535584e-01 -4.66129319e-02  7.91389656e-02 ... -2.92063115e-02\n",
      "  -1.66562655e-01 -8.62878720e-02]\n",
      " ...\n",
      " [-6.72289916e-02 -6.95159643e-03  1.20779736e-01 ... -1.18941140e-02\n",
      "  -1.33850888e-01 -2.25901574e-02]\n",
      " [-5.94744588e-02 -2.29422309e-02 -8.78527706e-02 ... -1.97980690e-01\n",
      "  -1.31152995e-01 -2.76030683e-02]\n",
      " [-9.83399168e-02  6.15169736e-02  1.16300818e-01 ...  8.50900763e-02\n",
      "  -7.03968502e-02  7.61268555e-03]]\n"
     ]
    }
   ],
   "source": [
    "#when you need to create a numpy array that satisfies some statistical properties\n",
    "X = np.random.normal(0,0.1,size=(1000,1000))\n",
    "print(X)"
   ]
  },
  {
   "cell_type": "code",
   "execution_count": 26,
   "id": "829e9951",
   "metadata": {},
   "outputs": [],
   "source": [
    "#we can use indicies in numpy array both positives and negative"
   ]
  },
  {
   "cell_type": "code",
   "execution_count": 27,
   "id": "2afd3377",
   "metadata": {},
   "outputs": [
    {
     "name": "stdout",
     "output_type": "stream",
     "text": [
      "[1 2 3 4 5 6 7 8 9]\n",
      "[2 3 4 5 6 7 8]\n"
     ]
    }
   ],
   "source": [
    "X = np.arange(1,10)\n",
    "print(X)\n",
    "\n",
    "X = np.delete(X, [0,8])\n",
    "print(X)"
   ]
  },
  {
   "cell_type": "code",
   "execution_count": 28,
   "id": "acb91c62",
   "metadata": {},
   "outputs": [
    {
     "name": "stdout",
     "output_type": "stream",
     "text": [
      "[[1 2 3]\n",
      " [4 5 6]\n",
      " [7 8 9]]\n",
      "\n",
      " [[4 5 6]\n",
      " [7 8 9]]\n",
      "\n",
      " [[5]\n",
      " [8]]\n"
     ]
    }
   ],
   "source": [
    "Y = np.arange(1,10).reshape(3,3)\n",
    "print(Y)\n",
    "\n",
    "Y = np.delete(Y,0,axis=0) #axis = 0 means row, 1 means column\n",
    "print(\"\\n\",Y)\n",
    "\n",
    "Y = np.delete(Y,[0,2],axis=1) #axis = 0 means row, 1 means column\n",
    "print(\"\\n\",Y)"
   ]
  },
  {
   "cell_type": "code",
   "execution_count": 29,
   "id": "2e50599c",
   "metadata": {},
   "outputs": [
    {
     "name": "stdout",
     "output_type": "stream",
     "text": [
      "[1 2 3 4 5 6 7 8 9]\n",
      "[ 1  2  3  4  5  6  7  8  9 10]\n"
     ]
    }
   ],
   "source": [
    "X = np.arange(1,10)\n",
    "print(X)\n",
    "\n",
    "X = np.append(X,10)\n",
    "print(X)"
   ]
  },
  {
   "cell_type": "code",
   "execution_count": 30,
   "id": "e73cd1ba",
   "metadata": {
    "scrolled": true
   },
   "outputs": [
    {
     "name": "stdout",
     "output_type": "stream",
     "text": [
      "[[1 2 3]\n",
      " [4 5 6]\n",
      " [7 8 9]]\n",
      "\n",
      " [[1 2 3]\n",
      " [0 0 0]\n",
      " [4 5 6]\n",
      " [7 8 9]]\n",
      "\n",
      " [[1 0 2 3]\n",
      " [4 0 5 6]\n",
      " [7 0 8 9]]\n"
     ]
    }
   ],
   "source": [
    "Y = np.arange(1,10).reshape(3,3)\n",
    "print(Y)\n",
    "\n",
    "w = np.insert(Y,1,[0,0,0],axis=0)\n",
    "print(\"\\n\",w)\n",
    "\n",
    "z = np.insert(Y,1,[0,0,0],axis=1)\n",
    "print(\"\\n\",z)"
   ]
  },
  {
   "cell_type": "code",
   "execution_count": 31,
   "id": "d3eb4639",
   "metadata": {},
   "outputs": [],
   "source": [
    "#numpy also allows to stack arrays by the top or side by side\n",
    "# v stack for vertical, h for horizontal\n",
    "#in order to stack arrays, the shape of the arrays must match"
   ]
  },
  {
   "cell_type": "code",
   "execution_count": 32,
   "id": "2581b42a",
   "metadata": {},
   "outputs": [
    {
     "name": "stdout",
     "output_type": "stream",
     "text": [
      "[[1 2]\n",
      " [3 4]\n",
      " [5 6]]\n"
     ]
    }
   ],
   "source": [
    "x = np.array([1,2])\n",
    "y = np.array([[3,4],[5,6]])\n",
    "z = np.vstack((x,y))\n",
    "print(z)"
   ]
  },
  {
   "cell_type": "code",
   "execution_count": 33,
   "id": "e3e461a4",
   "metadata": {},
   "outputs": [
    {
     "name": "stdout",
     "output_type": "stream",
     "text": [
      "[[3 4 1]\n",
      " [5 6 2]]\n"
     ]
    }
   ],
   "source": [
    "#similary\n",
    "z = np.hstack((y,x.reshape(2,1)))\n",
    "print(z)"
   ]
  },
  {
   "cell_type": "markdown",
   "id": "7198841b",
   "metadata": {},
   "source": [
    "# Slicing\n"
   ]
  },
  {
   "cell_type": "code",
   "execution_count": 34,
   "id": "3c0aca26",
   "metadata": {},
   "outputs": [
    {
     "name": "stdout",
     "output_type": "stream",
     "text": [
      "[[ 1  2  3  4  5]\n",
      " [ 6  7  8  9 10]\n",
      " [11 12 13 14 15]\n",
      " [16 17 18 19 20]]\n",
      "[[ 8  9 10]\n",
      " [13 14 15]\n",
      " [18 19 20]]\n"
     ]
    }
   ],
   "source": [
    "x = np.arange(1,21).reshape(4,5)\n",
    "print(x)\n",
    "\n",
    "z = x[1:4,2:5]\n",
    "print(z) #1:4 indicates what indicies you want to grab from the rows, 2:5 indicates columns"
   ]
  },
  {
   "cell_type": "code",
   "execution_count": 35,
   "id": "76faa545",
   "metadata": {},
   "outputs": [
    {
     "name": "stdout",
     "output_type": "stream",
     "text": [
      "[[ 8  9 10]\n",
      " [13 14 15]\n",
      " [18 19 20]]\n"
     ]
    }
   ],
   "source": [
    "#NOTE: slicing just create a view of the original array and not store the copy of it. so if we change anything to the newer one\n",
    "#the older one will automatically got affected. to avoid this, we can use copy method of numpy\n",
    "z = x[1:,2:].copy()\n",
    "print(z)"
   ]
  },
  {
   "cell_type": "code",
   "execution_count": 36,
   "id": "1ee9d22b",
   "metadata": {},
   "outputs": [
    {
     "name": "stdout",
     "output_type": "stream",
     "text": [
      "[[  8   9  10]\n",
      " [ 13  14  15]\n",
      " [ 18  19 555]]\n"
     ]
    }
   ],
   "source": [
    "z[2,2] = 555\n",
    "print(z)"
   ]
  },
  {
   "cell_type": "code",
   "execution_count": 37,
   "id": "0e8ec4c2",
   "metadata": {},
   "outputs": [
    {
     "name": "stdout",
     "output_type": "stream",
     "text": [
      "[[ 1  2  3  4  5]\n",
      " [ 6  7  8  9 10]\n",
      " [11 12 13 14 15]\n",
      " [16 17 18 19 20]]\n"
     ]
    }
   ],
   "source": [
    "print(x)"
   ]
  },
  {
   "cell_type": "code",
   "execution_count": 38,
   "id": "89d19d02",
   "metadata": {},
   "outputs": [
    {
     "name": "stdout",
     "output_type": "stream",
     "text": [
      "[ 1  7 13 19]\n"
     ]
    }
   ],
   "source": [
    "#numpy offers many built-in functions to extract the elements from the array\n",
    "z = np.diag(x)\n",
    "print(z)"
   ]
  },
  {
   "cell_type": "code",
   "execution_count": 39,
   "id": "597b907a",
   "metadata": {},
   "outputs": [
    {
     "name": "stdout",
     "output_type": "stream",
     "text": [
      "[ 2  8 14 20]\n"
     ]
    }
   ],
   "source": [
    "z = np.diag(x,k=1) #k=1 above the diagonal, if -1, this will extract the value below the main diagonal. Default is 0\n",
    "print(z)"
   ]
  },
  {
   "cell_type": "code",
   "execution_count": 40,
   "id": "ab37db94",
   "metadata": {},
   "outputs": [
    {
     "name": "stdout",
     "output_type": "stream",
     "text": [
      "[ 1  2  3  4  5  6  7  8  9 10 11 12 13 14 15 16 17 18 19 20]\n"
     ]
    }
   ],
   "source": [
    "print(np.unique(x))"
   ]
  },
  {
   "cell_type": "markdown",
   "id": "d2c14886",
   "metadata": {},
   "source": [
    "# Boolean Operations and Set Operations"
   ]
  },
  {
   "cell_type": "code",
   "execution_count": 41,
   "id": "7ab9bf55",
   "metadata": {},
   "outputs": [
    {
     "name": "stdout",
     "output_type": "stream",
     "text": [
      "[11 12 13 14 15 16 17 18 19 20]\n"
     ]
    }
   ],
   "source": [
    "\n",
    "print(x[x>10])"
   ]
  },
  {
   "cell_type": "code",
   "execution_count": 42,
   "id": "fe131b3c",
   "metadata": {},
   "outputs": [
    {
     "name": "stdout",
     "output_type": "stream",
     "text": [
      "[2 3]\n",
      "[1 4 5]\n",
      "[ 1  2  3  4  5  6  7 10]\n"
     ]
    }
   ],
   "source": [
    "x = np.array([1,2,3,4,5])\n",
    "y = np.array([6,7,2,3,10])\n",
    "\n",
    "print(np.intersect1d(x,y))\n",
    "print(np.setdiff1d(x,y))\n",
    "print(np.union1d(x,y))"
   ]
  },
  {
   "cell_type": "code",
   "execution_count": 43,
   "id": "f9e4cecf",
   "metadata": {},
   "outputs": [
    {
     "name": "stdout",
     "output_type": "stream",
     "text": [
      "[ 2 10  9  7  8 10  6  1  9  2]\n"
     ]
    }
   ],
   "source": [
    "#sorting- whenever you use sorting as a function, it will sort out of place else inplace sorting\n",
    "x = np.random.randint(1,11,size=(10,))\n",
    "print(x)"
   ]
  },
  {
   "cell_type": "code",
   "execution_count": 44,
   "id": "ec115d37",
   "metadata": {},
   "outputs": [
    {
     "name": "stdout",
     "output_type": "stream",
     "text": [
      "[ 1  2  2  6  7  8  9  9 10 10]\n",
      "[ 2 10  9  7  8 10  6  1  9  2]\n"
     ]
    }
   ],
   "source": [
    "print(np.sort(x))\n",
    "print(x) #sort function"
   ]
  },
  {
   "cell_type": "code",
   "execution_count": 45,
   "id": "78b26d77",
   "metadata": {},
   "outputs": [
    {
     "name": "stdout",
     "output_type": "stream",
     "text": [
      "[ 1  2  2  6  7  8  9  9 10 10]\n"
     ]
    }
   ],
   "source": [
    "x.sort()\n",
    "print(x) #sort as a method"
   ]
  },
  {
   "cell_type": "code",
   "execution_count": 46,
   "id": "6b668c65",
   "metadata": {},
   "outputs": [
    {
     "name": "stdout",
     "output_type": "stream",
     "text": [
      "[[1 2 3]\n",
      " [4 5 6]\n",
      " [7 8 9]]\n"
     ]
    }
   ],
   "source": [
    "print(Y)\n",
    "    "
   ]
  },
  {
   "cell_type": "code",
   "execution_count": 47,
   "id": "9ab2404e",
   "metadata": {},
   "outputs": [
    {
     "name": "stdout",
     "output_type": "stream",
     "text": [
      "[[1 2 3]\n",
      " [4 5 6]\n",
      " [7 8 9]]\n"
     ]
    }
   ],
   "source": [
    "print(np.sort(Y,axis=0))"
   ]
  },
  {
   "cell_type": "markdown",
   "id": "b42235c4",
   "metadata": {},
   "source": [
    "### Arithmetic Operations "
   ]
  },
  {
   "cell_type": "code",
   "execution_count": 48,
   "id": "2378ad59",
   "metadata": {},
   "outputs": [
    {
     "name": "stdout",
     "output_type": "stream",
     "text": [
      "[ 1  2  2  6  7  8  9  9 10 10]\n",
      "[ 6  7  2  3 10]\n"
     ]
    }
   ],
   "source": [
    "print(x)\n",
    "print(y)"
   ]
  },
  {
   "cell_type": "code",
   "execution_count": 50,
   "id": "ecc505e8",
   "metadata": {},
   "outputs": [],
   "source": [
    "x = np.array([6,7,2,3,10])"
   ]
  },
  {
   "cell_type": "code",
   "execution_count": 51,
   "id": "a37bc929",
   "metadata": {},
   "outputs": [
    {
     "name": "stdout",
     "output_type": "stream",
     "text": [
      "[12 14  4  6 20]\n"
     ]
    }
   ],
   "source": [
    "print(np.add(x,y))"
   ]
  },
  {
   "cell_type": "code",
   "execution_count": 52,
   "id": "a0edda63",
   "metadata": {},
   "outputs": [
    {
     "name": "stdout",
     "output_type": "stream",
     "text": [
      "[0 0 0 0 0]\n"
     ]
    }
   ],
   "source": [
    "print(np.subtract(x,y))"
   ]
  },
  {
   "cell_type": "code",
   "execution_count": 53,
   "id": "60df1d6d",
   "metadata": {},
   "outputs": [
    {
     "name": "stdout",
     "output_type": "stream",
     "text": [
      "[1. 1. 1. 1. 1.]\n"
     ]
    }
   ],
   "source": [
    "print(np.divide(x,y))"
   ]
  },
  {
   "cell_type": "code",
   "execution_count": 54,
   "id": "9b11ca42",
   "metadata": {},
   "outputs": [
    {
     "name": "stdout",
     "output_type": "stream",
     "text": [
      "[ 36  49   4   9 100]\n"
     ]
    }
   ],
   "source": [
    "print(np.multiply(x,y))"
   ]
  },
  {
   "cell_type": "code",
   "execution_count": null,
   "id": "e48f1418",
   "metadata": {},
   "outputs": [],
   "source": [
    "#In order to complete these functions, numpy sometimes use something called as Broadcasting.It is a term used to define how numpy \n",
    "#handles arithmetic operations with arrays of different shapes. The arrays must have them the same shape or be broadcastableb"
   ]
  },
  {
   "cell_type": "code",
   "execution_count": 55,
   "id": "61f8263b",
   "metadata": {},
   "outputs": [
    {
     "name": "stdout",
     "output_type": "stream",
     "text": [
      "[4.03428793e+02 1.09663316e+03 7.38905610e+00 2.00855369e+01\n",
      " 2.20264658e+04]\n"
     ]
    }
   ],
   "source": [
    "print(np.exp(x))"
   ]
  },
  {
   "cell_type": "code",
   "execution_count": 56,
   "id": "37d6c528",
   "metadata": {},
   "outputs": [
    {
     "name": "stdout",
     "output_type": "stream",
     "text": [
      "[2.44948974 2.64575131 1.41421356 1.73205081 3.16227766]\n"
     ]
    }
   ],
   "source": [
    "print(np.sqrt(x))"
   ]
  },
  {
   "cell_type": "code",
   "execution_count": 57,
   "id": "e18e09e3",
   "metadata": {},
   "outputs": [
    {
     "name": "stdout",
     "output_type": "stream",
     "text": [
      "[ 36  49   4   9 100]\n"
     ]
    }
   ],
   "source": [
    "print(np.power(x,2))"
   ]
  },
  {
   "cell_type": "code",
   "execution_count": 62,
   "id": "5a162ac1",
   "metadata": {},
   "outputs": [
    {
     "name": "stdout",
     "output_type": "stream",
     "text": [
      "Average of all:  5.0\n",
      "Average of columns:  [4. 5. 6.]\n",
      "Average of rows:  [2. 5. 8.]\n",
      "Sum of columns:  [ 6 15 24]\n"
     ]
    }
   ],
   "source": [
    "print(\"Average of all: \",Y.mean())\n",
    "print(\"Average of columns: \",Y.mean(axis=0))\n",
    "print(\"Average of rows: \",Y.mean(axis=1))\n",
    "print(\"Sum of columns: \",Y.sum(axis=1))"
   ]
  },
  {
   "cell_type": "code",
   "execution_count": 63,
   "id": "0bef6468",
   "metadata": {},
   "outputs": [
    {
     "data": {
      "text/plain": [
       "2.581988897471611"
      ]
     },
     "execution_count": 63,
     "metadata": {},
     "output_type": "execute_result"
    }
   ],
   "source": [
    "Y.std()"
   ]
  },
  {
   "cell_type": "code",
   "execution_count": 64,
   "id": "396f61a0",
   "metadata": {},
   "outputs": [
    {
     "data": {
      "text/plain": [
       "5.0"
      ]
     },
     "execution_count": 64,
     "metadata": {},
     "output_type": "execute_result"
    }
   ],
   "source": [
    "np.median(Y)"
   ]
  },
  {
   "cell_type": "code",
   "execution_count": 65,
   "id": "44e691c1",
   "metadata": {},
   "outputs": [
    {
     "data": {
      "text/plain": [
       "9"
      ]
     },
     "execution_count": 65,
     "metadata": {},
     "output_type": "execute_result"
    }
   ],
   "source": [
    "Y.max()"
   ]
  },
  {
   "cell_type": "code",
   "execution_count": 67,
   "id": "3b3777da",
   "metadata": {},
   "outputs": [
    {
     "name": "stdout",
     "output_type": "stream",
     "text": [
      "[[1 2 3]\n",
      " [4 5 6]\n",
      " [7 8 9]]\n"
     ]
    }
   ],
   "source": [
    "print(Y)"
   ]
  },
  {
   "cell_type": "code",
   "execution_count": 66,
   "id": "cffdd7aa",
   "metadata": {},
   "outputs": [
    {
     "name": "stdout",
     "output_type": "stream",
     "text": [
      "[[ 4  5  6]\n",
      " [ 7  8  9]\n",
      " [10 11 12]]\n"
     ]
    }
   ],
   "source": [
    "print(3 + Y)"
   ]
  },
  {
   "cell_type": "code",
   "execution_count": 69,
   "id": "34372197",
   "metadata": {},
   "outputs": [],
   "source": [
    "a = np.arange(9).reshape(3,3)\n",
    "b = np.arange(3)"
   ]
  },
  {
   "cell_type": "code",
   "execution_count": 70,
   "id": "8f679d1b",
   "metadata": {},
   "outputs": [
    {
     "name": "stdout",
     "output_type": "stream",
     "text": [
      "[[ 0  2  4]\n",
      " [ 3  5  7]\n",
      " [ 6  8 10]]\n"
     ]
    }
   ],
   "source": [
    "print(a+b)\n",
    "#here, the concept of broadcasating is used."
   ]
  },
  {
   "cell_type": "code",
   "execution_count": null,
   "id": "1aff0caf",
   "metadata": {},
   "outputs": [],
   "source": []
  }
 ],
 "metadata": {
  "kernelspec": {
   "display_name": "Python 3 (ipykernel)",
   "language": "python",
   "name": "python3"
  },
  "language_info": {
   "codemirror_mode": {
    "name": "ipython",
    "version": 3
   },
   "file_extension": ".py",
   "mimetype": "text/x-python",
   "name": "python",
   "nbconvert_exporter": "python",
   "pygments_lexer": "ipython3",
   "version": "3.9.7"
  }
 },
 "nbformat": 4,
 "nbformat_minor": 5
}
